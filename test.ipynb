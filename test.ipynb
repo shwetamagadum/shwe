{
 "cells": [
  {
   "cell_type": "code",
   "execution_count": 1,
   "id": "5d428f7d",
   "metadata": {},
   "outputs": [
    {
     "data": {
      "text/plain": [
       "1111112"
      ]
     },
     "execution_count": 1,
     "metadata": {},
     "output_type": "execute_result"
    }
   ],
   "source": [
    "2111111\n",
    "1111112"
   ]
  },
  {
   "cell_type": "code",
   "execution_count": null,
   "id": "46471d57",
   "metadata": {},
   "outputs": [],
   "source": []
  }
 ],
 "metadata": {
  "kernelspec": {
   "display_name": "Python 3 (ipykernel)",
   "language": "python",
   "name": "python3"
  },
  "language_info": {
   "codemirror_mode": {
    "name": "ipython",
    "version": 3
   },
   "file_extension": ".py",
   "mimetype": "text/x-python",
   "name": "python",
   "nbconvert_exporter": "python",
   "pygments_lexer": "ipython3",
   "version": "3.10.9"
  }
 },
 "nbformat": 4,
 "nbformat_minor": 5
}
